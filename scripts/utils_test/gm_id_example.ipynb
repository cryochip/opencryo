{
 "cells": [
  {
   "cell_type": "markdown",
   "metadata": {},
   "source": [
    "# Sizing a mosfet using gm/Id method"
   ]
  },
  {
   "cell_type": "markdown",
   "metadata": {},
   "source": [
    "This is an example you can use to calculate mosfet size in Sky130 for given design parameters. You can change the parameters below and recalculate."
   ]
  },
  {
   "cell_type": "code",
   "execution_count": 1,
   "metadata": {},
   "outputs": [
    {
     "name": "stdout",
     "output_type": "stream",
     "text": [
      "Populating the interactive namespace from numpy and matplotlib\n"
     ]
    }
   ],
   "source": [
    "%pylab inline\n",
    "import numpy as np\n",
    "from scipy.interpolate import interp1d\n",
    "import pint\n",
    "ureg = pint.UnitRegistry()  # convenient unit conversions"
   ]
  },
  {
   "cell_type": "markdown",
   "metadata": {},
   "source": [
    "First we'll setup the design parameters. The mosfet length and width will need to be one of the bin values for the selected mosfet model."
   ]
  },
  {
   "cell_type": "code",
   "execution_count": 2,
   "metadata": {},
   "outputs": [],
   "source": [
    "A_v = np.abs(-2)       # voltage gain at DC\n",
    "I_d = 0.5 * ureg.mA    # maximum drain current\n",
    "f_c = 500 * ureg.MHz   # corner (3dB) frequency\n",
    "C_L = 1 * ureg.pF      # Load capacitance\n",
    "\n",
    "# simulation parameters\n",
    "sim_L = 0.15 * ureg.um # target mosfet length\n",
    "sim_W = 1 * ureg.um    # calculations are independent of width but we need to have a matching bin value for the initial simulations\n",
    "sim_Vdd = 1.8 * ureg.V"
   ]
  },
  {
   "cell_type": "markdown",
   "metadata": {},
   "source": [
    "First we calculate the load resistance.\n",
    "\n",
    "\\begin{align}\n",
    "R_L &= \\frac{1}{2 * \\pi * f_c * C_L}\n",
    "\\end{align}"
   ]
  },
  {
   "cell_type": "code",
   "execution_count": 3,
   "metadata": {},
   "outputs": [
    {
     "name": "stdout",
     "output_type": "stream",
     "text": [
      "318.3192742320548 ohm\n"
     ]
    }
   ],
   "source": [
    "R_L = 1 / (2 * 3.1415 * f_c * C_L)\n",
    "R_L = R_L.to(ureg.ohms)\n",
    "print(R_L)"
   ]
  },
  {
   "cell_type": "markdown",
   "metadata": {},
   "source": [
    "Next we calculate transconductance.\n",
    "\\begin{align}\n",
    "g_m &= \\frac{A_v}{R_L}\n",
    "\\end{align}"
   ]
  },
  {
   "cell_type": "code",
   "execution_count": 4,
   "metadata": {},
   "outputs": [
    {
     "name": "stdout",
     "output_type": "stream",
     "text": [
      "gm=6.2829999999999995 millisiemens\n"
     ]
    }
   ],
   "source": [
    "g_m = A_v / R_L\n",
    "g_m = g_m.to(ureg.mS)\n",
    "print(f'gm={g_m}')"
   ]
  },
  {
   "cell_type": "markdown",
   "metadata": {},
   "source": [
    "Now we need to generate the gm/Id graphs we'll need to determine the remaining values. These can be pre-generated and loaded or calculate here. We'll load them from an hdf5 file generated with _gen_gm_id_plots.py_."
   ]
  },
  {
   "cell_type": "code",
   "execution_count": 5,
   "metadata": {},
   "outputs": [],
   "source": [
    "import h5py\n",
    "f = h5py.File('gm_id_01v8/sky130_fd_pr__nfet_01v8__data.h5', 'r')\n",
    "bin_idx = 4\n",
    "assert(f['bins'][bin_idx][1] - sim_L.magnitude < 0.00001)  # index of the W=1 L=0.15 bin in the repo data.\n",
    "\n",
    "vsweep=f['vsweep'][bin_idx] * ureg.V\n",
    "gm_id = (f['gm'][bin_idx] * ureg.mS) / (f['id'][bin_idx] * ureg.A)\n",
    "id_W = (f['id'][bin_idx] * ureg.A / sim_W)"
   ]
  },
  {
   "cell_type": "markdown",
   "metadata": {},
   "source": [
    "We could just look for the $\\frac{I_d}{W}$ on the graph, but we've got the data and data interpolation tools, so we can calculate exactly. We'll figure out the value and plot it on the graph as a visual validation."
   ]
  },
  {
   "cell_type": "code",
   "execution_count": 6,
   "metadata": {},
   "outputs": [
    {
     "name": "stdout",
     "output_type": "stream",
     "text": [
      "Id=63.30221617728767 microampere / micrometer\n"
     ]
    }
   ],
   "source": [
    "i_id_w__gm_id = interp1d(gm_id.magnitude, id_W.magnitude)\n",
    "id_interp = i_id_w__gm_id(g_m.magnitude) * id_W.units\n",
    "print(f'Id={id_interp.to(ureg.uA / ureg.um)}')"
   ]
  },
  {
   "cell_type": "code",
   "execution_count": 7,
   "metadata": {},
   "outputs": [
    {
     "data": {
      "image/png": "[encoded data removed]",
      "text/plain": [
       "<Figure size 432x288 with 1 Axes>"
      ]
     },
     "metadata": {
      "needs_background": "light"
     },
     "output_type": "display_data"
    }
   ],
   "source": [
    "fig = figure()\n",
    "id_w__gm_id = fig.subplots(1, 1)\n",
    "id_w__gm_id.plot(gm_id.magnitude, id_W.magnitude)\n",
    "id_w__gm_id.axes.set_xlabel(f'gm/Id ({gm_id.units})')\n",
    "id_w__gm_id.axes.set_ylabel(f'Id/W ({id_W.units})')\n",
    "id_w__gm_id.plot(g_m.magnitude, id_interp.magnitude, 'o', markersize=8)\n",
    "fig.tight_layout()"
   ]
  },
  {
   "cell_type": "markdown",
   "metadata": {},
   "source": [
    "This allows us to calculate the transistor width.\n",
    "\\begin{align}\n",
    "W &= \\frac{I_d}{\\frac{I_d}{W}}\n",
    "\\end{align}"
   ]
  },
  {
   "cell_type": "code",
   "execution_count": 8,
   "metadata": {},
   "outputs": [
    {
     "name": "stdout",
     "output_type": "stream",
     "text": [
      "W=7.898617618689249 micrometer\n"
     ]
    }
   ],
   "source": [
    "W = I_d / id_interp\n",
    "W = W.to(ureg.um)\n",
    "print(f'W={W}')"
   ]
  },
  {
   "cell_type": "markdown",
   "metadata": {},
   "source": [
    "Next we determine the gate bias using the same interpolation technique as above."
   ]
  },
  {
   "cell_type": "code",
   "execution_count": 9,
   "metadata": {},
   "outputs": [
    {
     "name": "stdout",
     "output_type": "stream",
     "text": [
      "Vbias=0.9395423670496599 volt\n"
     ]
    },
    {
     "data": {
      "image/png": "[encoded data removed]",
      "text/plain": [
       "<Figure size 432x288 with 1 Axes>"
      ]
     },
     "metadata": {
      "needs_background": "light"
     },
     "output_type": "display_data"
    }
   ],
   "source": [
    "i_vgg__gm_id = interp1d(gm_id.magnitude, vsweep.magnitude)\n",
    "vbias_interp = i_vgg__gm_id(g_m.magnitude) * vsweep.units\n",
    "print(f'Vbias={vbias_interp}')\n",
    "fig = figure()\n",
    "gm_id__vgg = fig.subplots(1, 1)\n",
    "gm_id__vgg.plot(vsweep.magnitude, gm_id.magnitude)\n",
    "gm_id__vgg.axes.set_xlabel(f'Vgg ({vsweep.units})')\n",
    "gm_id__vgg.axes.set_ylabel(f'gm/Id ({gm_id.units})')\n",
    "gm_id__vgg.plot(vbias_interp.magnitude, g_m.magnitude, 'o', markersize=8)\n",
    "fig.tight_layout()"
   ]
  }
 ],
 "metadata": {
  "kernelspec": {
   "display_name": "Python 3",
   "language": "python",
   "name": "python3"
  },
  "language_info": {
   "codemirror_mode": {
    "name": "ipython",
    "version": 3
   },
   "file_extension": ".py",
   "mimetype": "text/x-python",
   "name": "python",
   "nbconvert_exporter": "python",
   "pygments_lexer": "ipython3",
   "version": "3.7.6"
  }
 },
 "nbformat": 4,
 "nbformat_minor": 4
}
